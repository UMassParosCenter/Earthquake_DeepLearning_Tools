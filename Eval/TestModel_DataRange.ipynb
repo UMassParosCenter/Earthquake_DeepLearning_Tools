{
 "cells": [
  {
   "cell_type": "code",
   "execution_count": null,
   "id": "3e898fbc-50c7-4af0-81da-2a93f7101af6",
   "metadata": {},
   "outputs": [
    {
     "name": "stdout",
     "output_type": "stream",
     "text": [
      "Starting Inferences\n"
     ]
    },
    {
     "name": "stderr",
     "output_type": "stream",
     "text": [
      "Running inferences: 100%|\u001b[32m██████████\u001b[0m| 1439/1439 [00:00<00:00, 1531.05it/s]"
     ]
    },
    {
     "name": "stdout",
     "output_type": "stream",
     "text": [
      "Completed Inferences\n"
     ]
    },
    {
     "name": "stderr",
     "output_type": "stream",
     "text": [
      "\n"
     ]
    }
   ],
   "source": [
    "\"\"\"\n",
    "Earthquake Event Inference Script Using Trained 2D CNN Model on PSD Features\n",
    "---------------------------------------------------------------------------\n",
    "\n",
    "This script performs batch inference for earthquake detection on infrasound PSD data\n",
    "collected from the Paros sensor network. It processes a user-defined time range by:\n",
    "\n",
    "1. Loading normalization statistics (mean and std) calculated during training.\n",
    "2. Loading a trained 2D CNN model (EarthquakeCNN2d) for earthquake vs background classification.\n",
    "3. Querying and preprocessing waveform data from the Paros sensor via InfluxDB over fixed\n",
    "   60-second segments, extracting PSD feature vectors (11 windows x 52 frequency bins).\n",
    "4. Normalizing the PSD vectors with the loaded statistics.\n",
    "5. Running inference on each PSD vector to predict earthquake probability.\n",
    "6. Saving results into CSV logs:\n",
    "   - All predictions\n",
    "   - Only windows predicted as earthquake events\n",
    "   - High-confidence earthquake events (probability ≥ 0.90)\n",
    "\n",
    "This script can be adapted for real-time monitoring or retrospective event analysis by\n",
    "changing the start and end times, sensor credentials, or output paths.\n",
    "\n",
    "Author: Ethan Gelfand\n",
    "Date: 08/12/2025\n",
    "\"\"\"\n",
    "\n",
    "import numpy as np\n",
    "import torch\n",
    "import os\n",
    "import csv\n",
    "from tqdm import tqdm\n",
    "from datetime import datetime, timedelta, UTC\n",
    "from cnn_model import EarthquakeCNN2d\n",
    "from DataQueryUtils import psd_vectors_from_range \n",
    "\n",
    "# Load normalization stats\n",
    "mean = np.load(\"../DataCollection_Preprocessing/Exported_Paros_Data/mean.npy\")\n",
    "std = np.load(\"../DataCollection_Preprocessing/Exported_Paros_Data/std.npy\")\n",
    "\n",
    "# Load trained model\n",
    "model = EarthquakeCNN2d(input_shape=(11, 52))\n",
    "model.load_state_dict(torch.load(\"../ModelTraining/fold_outputs/fold_3/CNNmodel.pth\", map_location=\"cpu\"))\n",
    "model.eval()\n",
    "model.to(\"cpu\")\n",
    "\n",
    "print(\"Starting Inferences\")\n",
    "\n",
    "# Set test time range (change as needed)\n",
    "start_time = datetime(2025, 5, 5, 0, 0, 0, tzinfo=None)\n",
    "end_time = datetime(2025, 5, 5, 23, 59, 59, tzinfo=None)\n",
    "# Get all PSD vectors for that range\n",
    "results = psd_vectors_from_range(\n",
    "    start_time=start_time,\n",
    "    end_time=end_time,\n",
    "    sensor_id=\"141929\",\n",
    "    box_id=\"parost2\",\n",
    "    password=\"*****\", # Replace with actual password\n",
    "    fs_in=20,\n",
    "    fs_out=100,\n",
    "    window_duration=10,\n",
    "    overlap=0.5,\n",
    "    mean=mean,\n",
    "    std=std\n",
    ")\n",
    "\n",
    "\n",
    "# Output CSV for all predictions\n",
    "dir = \"LoggedData\"\n",
    "os.makedirs(dir, exist_ok=True)\n",
    "log_path = \"LoggedData/Earthquake_Predictions_5_05_2025.csv\"\n",
    "event_log_path = \"LoggedData/Earthquake_Event_Log_5_05_2025.csv\"\n",
    "strong_event_log_path = \"LoggedData/Earthquake_Strong_Event_Log_5_05_2025.csv\"\n",
    "\n",
    "with open(log_path, mode=\"w\", newline=\"\") as f_all, open(event_log_path, mode=\"w\", newline=\"\") as f_event, open(strong_event_log_path, mode=\"w\", newline=\"\") as f_strong_event:\n",
    "    writer_all = csv.writer(f_all)\n",
    "    writer_event = csv.writer(f_event)\n",
    "    writer_strong_event = csv.writer(f_strong_event)\n",
    "    # Write headers\n",
    "    header = [\"query_time\", \"window_start\", \"window_end\", \"predicted_class\", \"prob_earthquake\", \"prob_background\"]\n",
    "    writer_all.writerow(header)\n",
    "    writer_event.writerow(header)\n",
    "    writer_strong_event.writerow(header)\n",
    "\n",
    "    for (window_start, window_end, psd_vector) in tqdm(results, desc=\"Running inferences\", colour=\"green\"):\n",
    "        input_tensor = torch.tensor(psd_vector, dtype=torch.float32).unsqueeze(0).unsqueeze(0)  # Shape: (1, 1, 11, 52)\n",
    "        with torch.no_grad():\n",
    "            output = model(input_tensor)\n",
    "            probs = torch.softmax(output, dim=1).numpy()[0]\n",
    "            pred = np.argmax(probs)\n",
    "\n",
    "        row = [\n",
    "            datetime.now(UTC).isoformat(timespec=\"seconds\"),\n",
    "            window_start.isoformat(timespec=\"seconds\"),\n",
    "            window_end.isoformat(timespec=\"seconds\"),\n",
    "            int(pred),\n",
    "            round(float(probs[1]), 5),\n",
    "            round(float(probs[0]), 5)\n",
    "        ]\n",
    "\n",
    "        writer_all.writerow(row)\n",
    "        if pred == 1:\n",
    "            writer_event.writerow(row)\n",
    "            if probs[1] >= 0.90:\n",
    "                writer_strong_event.writerow(row)\n",
    "\n",
    "print(\"Completed Inferences\")\n",
    "\n"
   ]
  },
  {
   "cell_type": "code",
   "execution_count": null,
   "id": "5a13ff2b-5ea8-42ad-950c-9cddbc757ded",
   "metadata": {},
   "outputs": [],
   "source": []
  }
 ],
 "metadata": {
  "kernelspec": {
   "display_name": "Python 3 (ipykernel)",
   "language": "python",
   "name": "python3"
  },
  "language_info": {
   "codemirror_mode": {
    "name": "ipython",
    "version": 3
   },
   "file_extension": ".py",
   "mimetype": "text/x-python",
   "name": "python",
   "nbconvert_exporter": "python",
   "pygments_lexer": "ipython3",
   "version": "3.13.3"
  }
 },
 "nbformat": 4,
 "nbformat_minor": 5
}
